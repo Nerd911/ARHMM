{
 "cells": [
  {
   "cell_type": "code",
   "execution_count": 1,
   "id": "recovered-replica",
   "metadata": {},
   "outputs": [],
   "source": [
    "%load_ext autoreload\n",
    "%autoreload 2"
   ]
  },
  {
   "cell_type": "code",
   "execution_count": 2,
   "id": "framed-humanitarian",
   "metadata": {},
   "outputs": [],
   "source": [
    "import numpy as np\n",
    "import pandas as pd\n",
    "import ssm\n",
    "import matplotlib.pyplot as plt\n",
    "import plotly.express as px\n",
    "import pickle\n",
    "import scipy\n",
    "import scipy.io\n",
    "import tsfresh\n",
    "import dtale\n",
    "import os\n",
    "px.set_mapbox_access_token(\"pk.eyJ1IjoibWlrb2xhanNsdXBpbnNraSIsImEiOiJjazJ5dDI0MWEwOTA3M2hxanRwbmo4NDRuIn0.NSbj3B1Bm6fC5QUP3s-BjQ\")\n",
    "import plotly.io as pio\n",
    "pio.renderers.default = \"iframe\"\n",
    "import dask\n",
    "from lib.huawei import load_data, load_motion, load_ambient, load_battery, load_api, load_label\n",
    "import tables\n",
    "from ssm.util import random_rotation, find_permutation\n",
    "import logging\n",
    "logging.basicConfig(filename='huawei_slds.log', level=logging.DEBUG)"
   ]
  },
  {
   "cell_type": "code",
   "execution_count": 3,
   "id": "developed-optimum",
   "metadata": {},
   "outputs": [],
   "source": [
    "with open(\"../Data/huawei-competition/selected_features.pickle\", \"rb\") as ifile:\n",
    "    selected_features = pickle.load(ifile)"
   ]
  },
  {
   "cell_type": "code",
   "execution_count": 4,
   "id": "wireless-broadcasting",
   "metadata": {},
   "outputs": [],
   "source": [
    "data = []\n",
    "for selected_feature in selected_features:\n",
    "#     file_path = os.path.join(\"../Data/2012.01.17-huawei/splitted/\", f\"1.3a-stationary_50ms__{selected_feature}.csv\")\n",
    "#     df = pd.read_csv(file_path, parse_dates = [\"DATETIME_UTC\"], index_col=\"DATETIME_UTC\")\n",
    "    a = np.load(os.path.join(\"../\", selected_feature))\n",
    "    data.append(a)\n",
    "#     print(df.shape)\n",
    "data = np.stack(data, axis=1)"
   ]
  },
  {
   "cell_type": "code",
   "execution_count": 5,
   "id": "amateur-jumping",
   "metadata": {},
   "outputs": [],
   "source": [
    "labels = np.load(\"../Data/huawei-competition/resampled/Label.npy\")[:,-1].astype(int) - 1"
   ]
  },
  {
   "cell_type": "code",
   "execution_count": 6,
   "id": "strong-summit",
   "metadata": {},
   "outputs": [],
   "source": [
    "order = np.loadtxt(\"../Data/huawei-competition/train_order.txt\").astype(int)"
   ]
  },
  {
   "cell_type": "code",
   "execution_count": 7,
   "id": "described-seventh",
   "metadata": {},
   "outputs": [],
   "source": [
    "data_ordered = np.zeros(data.shape)"
   ]
  },
  {
   "cell_type": "code",
   "execution_count": 8,
   "id": "original-imagination",
   "metadata": {},
   "outputs": [],
   "source": [
    "data_ordered[order - 1, :] = data"
   ]
  },
  {
   "cell_type": "code",
   "execution_count": 9,
   "id": "certain-stocks",
   "metadata": {},
   "outputs": [],
   "source": [
    "labels_ordered = np.zeros(labels.shape)\n",
    "labels_ordered[order - 1] = labels"
   ]
  },
  {
   "cell_type": "code",
   "execution_count": 19,
   "id": "brutal-maine",
   "metadata": {},
   "outputs": [],
   "source": [
    "def train_model(X_train,\n",
    "                y_train,\n",
    "                i, j,\n",
    "                transitions=\"recurrent\",\n",
    "                dynamics=\"diagonal_gaussian\",\n",
    "                emissions=\"gaussian\",\n",
    "                single_subspace=False,\n",
    "                num_iters=10000,\n",
    "                num_init_iters=10000,\n",
    "                num_init_restarts=3,\n",
    "                discrete_state_init_method = \"kmeans\"\n",
    "               ):\n",
    "    arhmm = ssm.hmm.HMM(2, 100,\n",
    "                            transitions=transitions,\n",
    "                            observations=dynamics)\n",
    "    hmm_lls = arhmm.fit(X_train, num_iters=num_iters,\n",
    "             num_init_iters=num_init_iters, init_method = discrete_state_init_method)\n",
    "    most_likely = arhmm.most_likely_states(X_train)\n",
    "    try:\n",
    "        perm = find_permutation(y_train.astype(int), most_likely)\n",
    "        arhmm.permute(perm)\n",
    "    except:\n",
    "        logging.error(\"Permutation exception\")\n",
    "    with open(f\"../Models/binary_huawei_rarhmm_{transitions}_{dynamics}_{num_iters}_{num_init_iters}_{discrete_state_init_method}_labels_{i}_{j}.pickle\", \"wb\") as ofile:\n",
    "        pickle.dump({\n",
    "            \"arhmm\": arhmm,\n",
    "            \"hmm_lls\": hmm_lls,\n",
    "            \"most_likely\": most_likely,\n",
    "        }, ofile)"
   ]
  },
  {
   "cell_type": "code",
   "execution_count": 26,
   "id": "completed-lightning",
   "metadata": {
    "jupyter": {
     "source_hidden": true
    }
   },
   "outputs": [],
   "source": [
    "params_list = [\n",
    "    {\n",
    "        \"transitions\": \"recurrent\",\n",
    "        \"dynamics\": \"diagonal_gaussian\",\n",
    "        \"num_iters\": 10000,\n",
    "        \"discrete_state_init_method\": \"random\"\n",
    "    },\n",
    "    {\n",
    "        \"transitions\": \"recurrent\",\n",
    "        \"dynamics\": \"diagonal_gaussian\",\n",
    "        \"num_iters\": 10000,\n",
    "        \"discrete_state_init_method\": \"kmeans\"\n",
    "    },\n",
    "]"
   ]
  },
  {
   "cell_type": "code",
   "execution_count": 27,
   "id": "sapphire-welding",
   "metadata": {},
   "outputs": [],
   "source": [
    "done = []"
   ]
  },
  {
   "cell_type": "code",
   "execution_count": null,
   "id": "following-portrait",
   "metadata": {},
   "outputs": [
    {
     "data": {
      "application/vnd.jupyter.widget-view+json": {
       "model_id": "64533e1753ff4d13ad6da4709bf6f264",
       "version_major": 2,
       "version_minor": 0
      },
      "text/plain": [
       "  0%|          | 0/10000 [00:01<?, ?it/s]"
      ]
     },
     "metadata": {},
     "output_type": "display_data"
    }
   ],
   "source": [
    "for i in range(8):\n",
    "    for j in range(i):\n",
    "        if (i, j) in done:\n",
    "            continue\n",
    "        indices = np.isin(labels_ordered.astype(int), [i, j])\n",
    "        b_data_ordered = data_ordered[indices]\n",
    "        b_labels_ordered = labels_ordered[indices]\n",
    "        b_labels_ordered[b_labels_ordered.astype(int) == i] = -1\n",
    "        b_labels_ordered[b_labels_ordered.astype(int) == j] = -2\n",
    "        b_labels_ordered = b_labels_ordered + 1\n",
    "        n = int(b_data_ordered.shape[0]*0.25)\n",
    "        m = int(b_data_ordered.shape[0]*0.5)\n",
    "        X_train = b_data_ordered[m:]\n",
    "        y_train = b_labels_ordered[m:]\n",
    "        X_val = b_data_ordered[:n]\n",
    "        y_val = b_labels_ordered[:n]\n",
    "        X_test = b_data_ordered[n:m]\n",
    "        y_test = b_labels_ordered[n:m]\n",
    "        for params in params_list:\n",
    "            try:\n",
    "                train_model(X_train, y_train, i, j, **params)\n",
    "            except Exception as e:\n",
    "                logging.error(f\"{e}\")"
   ]
  },
  {
   "cell_type": "code",
   "execution_count": null,
   "id": "isolated-enzyme",
   "metadata": {},
   "outputs": [],
   "source": [
    "posterior_x = posterior.mean_continuous_states[0]\n",
    "most_likely = rslds.most_likely_states(posterior_x, X_train)"
   ]
  },
  {
   "cell_type": "code",
   "execution_count": null,
   "id": "historic-speaking",
   "metadata": {},
   "outputs": [],
   "source": [
    "y_train"
   ]
  },
  {
   "cell_type": "code",
   "execution_count": null,
   "id": "joined-palmer",
   "metadata": {},
   "outputs": [],
   "source": [
    "# try:\n",
    "perm = find_permutation(y_train.astype(int), most_likely)\n",
    "rslds.permute(perm)\n",
    "# except:\n",
    "#     logging.error(\"Prediction exception\")"
   ]
  },
  {
   "cell_type": "code",
   "execution_count": null,
   "id": "unexpected-bolivia",
   "metadata": {},
   "outputs": [],
   "source": [
    "def plot_states(data_z, z_est, label, gen):\n",
    "    titles = [\"True\", label]\n",
    "    states_list = [data_z, z_est]\n",
    "    fig, axs = plt.subplots(2,1, figsize=(6,4))\n",
    "    for (i, ax, states) in zip(range(len(axs)), axs, states_list):\n",
    "        ax.imshow(states[None,:], aspect=\"auto\")\n",
    "        ax.set_yticks([])\n",
    "        ax.set_title(titles[i])\n",
    "        if i < (len(axs) - 1):\n",
    "            ax.set_xticks([])\n",
    "\n",
    "    plt.suptitle(f\"{titles[0]} and {titles[1]} States: {gen}\", va=\"baseline\")\n",
    "    plt.tight_layout()\n",
    "    plt.savefig(f\"../Plots/{titles[0]}_{titles[1]}_{gen}.pdf\")\n",
    "    plt.show()"
   ]
  },
  {
   "cell_type": "code",
   "execution_count": null,
   "id": "entertaining-outline",
   "metadata": {},
   "outputs": [],
   "source": [
    "z_est = rslds.most_likely_states(posterior_x, X_train)\n",
    "plot_states(y_train, z_est, \"Predicted\", 0)"
   ]
  },
  {
   "cell_type": "code",
   "execution_count": null,
   "id": "sunrise-postcard",
   "metadata": {},
   "outputs": [],
   "source": [
    "from sklearn.metrics import accuracy_score, confusion_matrix"
   ]
  },
  {
   "cell_type": "code",
   "execution_count": null,
   "id": "wound-genre",
   "metadata": {},
   "outputs": [],
   "source": [
    "accuracy_score(y_train, z_est)"
   ]
  },
  {
   "cell_type": "code",
   "execution_count": null,
   "id": "scenic-headset",
   "metadata": {},
   "outputs": [],
   "source": [
    "confusion_matrix(y_train, z_est)"
   ]
  },
  {
   "cell_type": "code",
   "execution_count": null,
   "id": "cutting-india",
   "metadata": {},
   "outputs": [],
   "source": []
  }
 ],
 "metadata": {
  "kernelspec": {
   "display_name": "Python 3",
   "language": "python",
   "name": "python3"
  },
  "language_info": {
   "codemirror_mode": {
    "name": "ipython",
    "version": 3
   },
   "file_extension": ".py",
   "mimetype": "text/x-python",
   "name": "python",
   "nbconvert_exporter": "python",
   "pygments_lexer": "ipython3",
   "version": "3.7.7"
  }
 },
 "nbformat": 4,
 "nbformat_minor": 5
}
