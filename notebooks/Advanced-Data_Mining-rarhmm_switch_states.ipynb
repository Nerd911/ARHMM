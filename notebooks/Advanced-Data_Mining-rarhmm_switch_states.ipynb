{
 "cells": [
  {
   "cell_type": "code",
   "execution_count": 65,
   "id": "recovered-replica",
   "metadata": {},
   "outputs": [
    {
     "name": "stdout",
     "output_type": "stream",
     "text": [
      "The autoreload extension is already loaded. To reload it, use:\n",
      "  %reload_ext autoreload\n"
     ]
    }
   ],
   "source": [
    "%load_ext autoreload\n",
    "%autoreload 2"
   ]
  },
  {
   "cell_type": "code",
   "execution_count": 66,
   "id": "framed-humanitarian",
   "metadata": {},
   "outputs": [],
   "source": [
    "import numpy as np\n",
    "import pandas as pd\n",
    "import ssm\n",
    "import matplotlib.pyplot as plt\n",
    "import plotly.express as px\n",
    "import pickle\n",
    "import scipy\n",
    "import scipy.io\n",
    "import tsfresh\n",
    "import dtale\n",
    "import os\n",
    "px.set_mapbox_access_token(\"pk.eyJ1IjoibWlrb2xhanNsdXBpbnNraSIsImEiOiJjazJ5dDI0MWEwOTA3M2hxanRwbmo4NDRuIn0.NSbj3B1Bm6fC5QUP3s-BjQ\")\n",
    "import plotly.io as pio\n",
    "pio.renderers.default = \"iframe\"\n",
    "import dask\n",
    "from lib.huawei import load_data, load_motion, load_ambient, load_battery, load_api, load_label\n",
    "import tables\n",
    "from ssm.util import random_rotation, find_permutation\n",
    "import logging\n",
    "from sklearn.metrics import accuracy_score, confusion_matrix, ConfusionMatrixDisplay\n",
    "logging.basicConfig(filename='huawei_hmm.log', level=logging.DEBUG)"
   ]
  },
  {
   "cell_type": "code",
   "execution_count": 67,
   "id": "inner-hierarchy",
   "metadata": {},
   "outputs": [],
   "source": [
    "MODELS_PATH = \"../Models/hmm_parallel/\""
   ]
  },
  {
   "cell_type": "code",
   "execution_count": 68,
   "id": "developed-optimum",
   "metadata": {},
   "outputs": [],
   "source": [
    "with open(\"../Data/huawei-competition/selected_features.pickle\", \"rb\") as ifile:\n",
    "    selected_features = pickle.load(ifile)"
   ]
  },
  {
   "cell_type": "code",
   "execution_count": 69,
   "id": "wireless-broadcasting",
   "metadata": {},
   "outputs": [],
   "source": [
    "data = []\n",
    "for selected_feature in selected_features:\n",
    "#     file_path = os.path.join(\"../Data/2012.01.17-huawei/splitted/\", f\"1.3a-stationary_50ms__{selected_feature}.csv\")\n",
    "#     df = pd.read_csv(file_path, parse_dates = [\"DATETIME_UTC\"], index_col=\"DATETIME_UTC\")\n",
    "    a = np.load(os.path.join(\"../\", selected_feature))\n",
    "    data.append(a)\n",
    "#     print(df.shape)\n",
    "data = np.stack(data, axis=1)"
   ]
  },
  {
   "cell_type": "code",
   "execution_count": 70,
   "id": "accepting-generation",
   "metadata": {},
   "outputs": [],
   "source": [
    "colnames = [feature.split(\"/\")[-1][15:-4] for feature in selected_features]"
   ]
  },
  {
   "cell_type": "code",
   "execution_count": 71,
   "id": "included-village",
   "metadata": {},
   "outputs": [],
   "source": [
    "transportation_modes = np.array([\"still\", \"walk\", \"run\", \"bike\", \"car\", \"bus\", \"train\", \"subway\"])"
   ]
  },
  {
   "cell_type": "code",
   "execution_count": 72,
   "id": "amateur-jumping",
   "metadata": {},
   "outputs": [],
   "source": [
    "labels = np.load(\"../Data/huawei-competition/resampled/Label.npy\")[:,-1].astype(int) - 1"
   ]
  },
  {
   "cell_type": "code",
   "execution_count": 73,
   "id": "strong-summit",
   "metadata": {},
   "outputs": [],
   "source": [
    "order = np.loadtxt(\"../Data/huawei-competition/train_order.txt\").astype(int)"
   ]
  },
  {
   "cell_type": "code",
   "execution_count": 74,
   "id": "described-seventh",
   "metadata": {},
   "outputs": [],
   "source": [
    "data_ordered = np.zeros(data.shape)"
   ]
  },
  {
   "cell_type": "code",
   "execution_count": 75,
   "id": "original-imagination",
   "metadata": {},
   "outputs": [],
   "source": [
    "data_ordered[order - 1, :] = data"
   ]
  },
  {
   "cell_type": "code",
   "execution_count": 76,
   "id": "certain-stocks",
   "metadata": {},
   "outputs": [],
   "source": [
    "labels_ordered = np.zeros(labels.shape)\n",
    "labels_ordered[order - 1] = labels"
   ]
  },
  {
   "cell_type": "code",
   "execution_count": 77,
   "id": "failing-military",
   "metadata": {},
   "outputs": [],
   "source": [
    "n = int(data_ordered.shape[0]*0.25)\n",
    "m = int(data_ordered.shape[0]*0.5)\n",
    "X_train = data_ordered[m:]\n",
    "y_train = labels_ordered[m:]\n",
    "X_val = data_ordered[:n]\n",
    "y_val = labels_ordered[:n]\n",
    "X_test = data_ordered[n:m]\n",
    "y_test = labels_ordered[n:m]"
   ]
  },
  {
   "cell_type": "code",
   "execution_count": 78,
   "id": "adaptive-fiber",
   "metadata": {},
   "outputs": [],
   "source": [
    "def load_model(path):\n",
    "    with open(path, \"rb\") as ifile:\n",
    "        model_dic = pickle.load(ifile)\n",
    "    return model_dic"
   ]
  },
  {
   "cell_type": "code",
   "execution_count": 79,
   "id": "limited-neutral",
   "metadata": {},
   "outputs": [],
   "source": [
    "models_dic = {}\n",
    "for f in os.listdir(MODELS_PATH):\n",
    "    models_dic[f] = load_model(os.path.join(MODELS_PATH, f))"
   ]
  },
  {
   "cell_type": "code",
   "execution_count": 80,
   "id": "turkish-integral",
   "metadata": {},
   "outputs": [
    {
     "data": {
      "text/plain": [
       "'huawei_hmm_standard_diagonal_gaussian_10000_10000_random'"
      ]
     },
     "execution_count": 80,
     "metadata": {},
     "output_type": "execute_result"
    }
   ],
   "source": [
    "list(models_dic.keys())[0][:-7]"
   ]
  },
  {
   "cell_type": "code",
   "execution_count": 81,
   "id": "exotic-stocks",
   "metadata": {},
   "outputs": [],
   "source": [
    "def _plot_switches(i, states, data, limit):\n",
    "    m = data.shape[0]\n",
    "    if limit is None:\n",
    "        xs = np.arange(m)\n",
    "        ys = data[:, i]\n",
    "        color = transportation_modes[states.astype(int)]\n",
    "    else:\n",
    "        lim = np.minimum(limit, m)\n",
    "        xs = np.arange(lim)\n",
    "        ys = data[:lim, i]\n",
    "        color = transportation_modes[states.astype(int)][:lim]\n",
    "    fig = px.scatter(x= xs, y = ys, color = color, title = f\"{i}: {colnames[i]}, limit {limit}\")\n",
    "    return fig"
   ]
  },
  {
   "cell_type": "code",
   "execution_count": 82,
   "id": "freelance-baseball",
   "metadata": {},
   "outputs": [],
   "source": [
    "def plot_switches(prefix, model_dic, X, y, limit = None):\n",
    "    n = int(X.shape[0]*0.25)\n",
    "    m = int(X.shape[0]*0.5)\n",
    "    X_train = X[m:]\n",
    "    y_train = y[m:]\n",
    "    X_val = X[:n]\n",
    "    y_val = y[:n]\n",
    "    X_test = X[n:m]\n",
    "    y_test = y[n:m]\n",
    "    model = model_dic[\"arhmm\"]\n",
    "    lls = model_dic[\"hmm_lls\"]\n",
    "    most_likely = model_dic[\"most_likely\"]\n",
    "    for i in range(len(colnames)):\n",
    "        fig = _plot_switches(i, most_likely, X_train, limit)\n",
    "    #     fig.show()\n",
    "        fig.write_image(f\"../Plots/hmm/features/{prefix}_{i}_{colnames[i]}_{limit}.png\")\n",
    "    most_likely = model.most_likely_states(X_val)\n",
    "    for i in range(len(colnames)):\n",
    "        fig = _plot_switches(i, most_likely, X_val, limit)\n",
    "    #     fig.show()\n",
    "        fig.write_image(f\"../Plots/hmm/features/{prefix}_val_{i}_{colnames[i]}_{limit}.png\")\n",
    "        "
   ]
  },
  {
   "cell_type": "code",
   "execution_count": 83,
   "id": "local-niger",
   "metadata": {},
   "outputs": [],
   "source": [
    "def plot_switches_binary(prefix, model_dic, X, y, label0, label1, limit = None):\n",
    "    n = int(X.shape[0]*0.25)\n",
    "    m = int(X.shape[0]*0.5)\n",
    "    X_train = X[m:]\n",
    "    y_train = y[m:]\n",
    "    X_val = X[:n]\n",
    "    y_val = y[:n]\n",
    "    X_test = X[n:m]\n",
    "    y_test = y[n:m]\n",
    "    model = model_dic[\"arhmm\"]\n",
    "    lls = model_dic[\"hmm_lls\"]\n",
    "    most_likely = model_dic[\"most_likely\"]\n",
    "    indices = np.isin(most_likely, [label0, label1])\n",
    "    for i in range(len(colnames)):\n",
    "        fig = _plot_switches(i, most_likely[indices], X_train[indices,:], limit)\n",
    "    #     fig.show()\n",
    "        fig.write_image(f\"../Plots/hmm/features/{prefix}_{i}_{colnames[i]}_{limit}_{transportation_modes[label0]}_{transportation_modes[label1]}.png\")\n",
    "    most_likely = model.most_likely_states(X_val)\n",
    "    indices = np.isin(most_likely, [label0, label1])\n",
    "    for i in range(len(colnames)):\n",
    "        fig = _plot_switches(i, most_likely[indices], X_val[indices,:], limit)\n",
    "    #     fig.show()\n",
    "        fig.write_image(f\"../Plots/hmm/features/{prefix}_val_{i}_{colnames[i]}_{limit}_{transportation_modes[label0]}_{transportation_modes[label1]}.png\")"
   ]
  },
  {
   "cell_type": "code",
   "execution_count": 84,
   "id": "unexpected-bolivia",
   "metadata": {},
   "outputs": [],
   "source": [
    "# def plot_states(data_z, z_est, label, prefix):\n",
    "#     titles = [\"True\", label]\n",
    "#     states_list = [data_z, z_est]\n",
    "#     fig, axs = plt.subplots(2,1, figsize=(6,4))\n",
    "#     for (i, ax, states) in zip(range(len(axs)), axs, states_list):\n",
    "#         ax.imshow(states[None,:], aspect=\"auto\")\n",
    "#         ax.set_yticks([])\n",
    "#         ax.set_title(titles[i])\n",
    "#         if i < (len(axs) - 1):\n",
    "#             ax.set_xticks([])\n",
    "\n",
    "#     plt.suptitle(f\"{titles[0]} and {titles[1]}\", va=\"baseline\")\n",
    "#     plt.tight_layout()\n",
    "#     plt.savefig(f\"../Plots/hmm/{prefix}_{titles[0]}_{titles[1]}.pdf\")\n",
    "#     plt.show()"
   ]
  },
  {
   "cell_type": "code",
   "execution_count": 86,
   "id": "alpha-bulgarian",
   "metadata": {
    "scrolled": false
   },
   "outputs": [
    {
     "name": "stdout",
     "output_type": "stream",
     "text": [
      "huawei_hmm_standard_diagonal_gaussian_10000_10000_random\n",
      "huawei_hmm_standard_diagonal_gaussian_10000_10000_kmeans\n"
     ]
    }
   ],
   "source": [
    "for f_name, model_dic in models_dic.items():\n",
    "    prefix = f_name[:-7]\n",
    "    print(prefix)\n",
    "    plot_switches(prefix, model_dic, data_ordered, labels_ordered)\n",
    "    plot_switches(prefix, model_dic, data_ordered, labels_ordered, 1000)\n",
    "    plot_switches(prefix, model_dic, data_ordered, labels_ordered, 6000)"
   ]
  },
  {
   "cell_type": "code",
   "execution_count": null,
   "id": "mature-jordan",
   "metadata": {},
   "outputs": [
    {
     "name": "stdout",
     "output_type": "stream",
     "text": [
      "huawei_hmm_standard_diagonal_gaussian_10000_10000_random\n",
      "huawei_hmm_standard_diagonal_gaussian_10000_10000_random\n",
      "huawei_hmm_standard_diagonal_gaussian_10000_10000_random\n",
      "huawei_hmm_standard_diagonal_gaussian_10000_10000_random\n",
      "huawei_hmm_standard_diagonal_gaussian_10000_10000_random\n",
      "huawei_hmm_standard_diagonal_gaussian_10000_10000_random\n",
      "huawei_hmm_standard_diagonal_gaussian_10000_10000_random\n",
      "huawei_hmm_standard_diagonal_gaussian_10000_10000_random\n",
      "huawei_hmm_standard_diagonal_gaussian_10000_10000_random\n",
      "huawei_hmm_standard_diagonal_gaussian_10000_10000_random\n",
      "huawei_hmm_standard_diagonal_gaussian_10000_10000_random\n",
      "huawei_hmm_standard_diagonal_gaussian_10000_10000_random\n",
      "huawei_hmm_standard_diagonal_gaussian_10000_10000_random\n",
      "huawei_hmm_standard_diagonal_gaussian_10000_10000_random\n",
      "huawei_hmm_standard_diagonal_gaussian_10000_10000_random\n",
      "huawei_hmm_standard_diagonal_gaussian_10000_10000_random\n",
      "huawei_hmm_standard_diagonal_gaussian_10000_10000_random\n",
      "huawei_hmm_standard_diagonal_gaussian_10000_10000_random\n"
     ]
    }
   ],
   "source": [
    "for f_name, model_dic in models_dic.items():\n",
    "    for i in range(len(transportation_modes)):\n",
    "        for j in range(i+1, len(transportation_modes)):\n",
    "            prefix = f_name[:-7]\n",
    "            print(prefix)\n",
    "            plot_switches_binary(prefix, model_dic, data_ordered, labels_ordered, i, j)\n",
    "            plot_switches_binary(prefix, model_dic, data_ordered, labels_ordered, i, j, 1000)\n",
    "            plot_switches_binary(prefix, model_dic, data_ordered, labels_ordered, i, j, 6000)"
   ]
  },
  {
   "cell_type": "code",
   "execution_count": null,
   "id": "established-bedroom",
   "metadata": {
    "scrolled": true
   },
   "outputs": [],
   "source": [
    "plot_states(y_train, models[0][\"most_likely\"], \"estimated\", 0 )"
   ]
  },
  {
   "cell_type": "code",
   "execution_count": null,
   "id": "compound-leather",
   "metadata": {
    "scrolled": false
   },
   "outputs": [],
   "source": [
    "accuracy_score(y_train, models[1][\"most_likely\"])"
   ]
  },
  {
   "cell_type": "code",
   "execution_count": null,
   "id": "occasional-plastic",
   "metadata": {},
   "outputs": [],
   "source": [
    "confusion_matrix(y_train, models[1][\"most_likely\"])"
   ]
  },
  {
   "cell_type": "code",
   "execution_count": null,
   "id": "isolated-enzyme",
   "metadata": {},
   "outputs": [],
   "source": [
    "posterior_x = posterior.mean_continuous_states[0]\n",
    "most_likely = rslds.most_likely_states(posterior_x, X_train)"
   ]
  },
  {
   "cell_type": "code",
   "execution_count": null,
   "id": "historic-speaking",
   "metadata": {},
   "outputs": [],
   "source": [
    "y_train"
   ]
  },
  {
   "cell_type": "code",
   "execution_count": null,
   "id": "joined-palmer",
   "metadata": {},
   "outputs": [],
   "source": [
    "# try:\n",
    "perm = find_permutation(y_train.astype(int), most_likely)\n",
    "rslds.permute(perm)\n",
    "# except:\n",
    "#     logging.error(\"Prediction exception\")"
   ]
  },
  {
   "cell_type": "code",
   "execution_count": null,
   "id": "entertaining-outline",
   "metadata": {},
   "outputs": [],
   "source": [
    "z_est = rslds.most_likely_states(posterior_x, X_train)\n",
    "plot_states(y_train, z_est, \"Predicted\", 0)"
   ]
  },
  {
   "cell_type": "code",
   "execution_count": null,
   "id": "sunrise-postcard",
   "metadata": {},
   "outputs": [],
   "source": [
    "from sklearn.metrics import accuracy_score, confusion_matrix"
   ]
  },
  {
   "cell_type": "code",
   "execution_count": null,
   "id": "wound-genre",
   "metadata": {},
   "outputs": [],
   "source": [
    "accuracy_score(y_train, z_est)"
   ]
  },
  {
   "cell_type": "code",
   "execution_count": null,
   "id": "scenic-headset",
   "metadata": {},
   "outputs": [],
   "source": [
    "confusion_matrix(y_train, z_est)"
   ]
  },
  {
   "cell_type": "code",
   "execution_count": null,
   "id": "cutting-india",
   "metadata": {
    "scrolled": false
   },
   "outputs": [],
   "source": [
    "print(models[0]['hmm_lls'])"
   ]
  },
  {
   "cell_type": "code",
   "execution_count": null,
   "id": "forty-perfume",
   "metadata": {},
   "outputs": [],
   "source": [
    "plt.plot(models[1]['hmm_lls'][1000:])"
   ]
  },
  {
   "cell_type": "code",
   "execution_count": null,
   "id": "silver-emphasis",
   "metadata": {},
   "outputs": [],
   "source": [
    "\"test\""
   ]
  },
  {
   "cell_type": "code",
   "execution_count": null,
   "id": "focal-spine",
   "metadata": {},
   "outputs": [],
   "source": []
  }
 ],
 "metadata": {
  "kernelspec": {
   "display_name": "Python 3",
   "language": "python",
   "name": "python3"
  },
  "language_info": {
   "codemirror_mode": {
    "name": "ipython",
    "version": 3
   },
   "file_extension": ".py",
   "mimetype": "text/x-python",
   "name": "python",
   "nbconvert_exporter": "python",
   "pygments_lexer": "ipython3",
   "version": "3.7.7"
  }
 },
 "nbformat": 4,
 "nbformat_minor": 5
}
